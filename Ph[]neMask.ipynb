{
 "cells": [
  {
   "cell_type": "markdown",
   "id": "844e0cf8-7884-478f-9b6b-59f1af268bb4",
   "metadata": {
    "tags": []
   },
   "source": [
    "## Ph[]neMask"
   ]
  },
  {
   "cell_type": "code",
   "execution_count": 2,
   "id": "ef35a556-a7a1-4364-a1e6-dd3e3579f883",
   "metadata": {
    "tags": []
   },
   "outputs": [],
   "source": [
    "import textgrid\n",
    "from pydub import AudioSegment\n",
    "import random\n",
    "import os\n",
    "from tqdm import tqdm"
   ]
  },
  {
   "cell_type": "code",
   "execution_count": 3,
   "id": "2f1f2109-181c-424a-8404-f126de94c2a5",
   "metadata": {
    "tags": []
   },
   "outputs": [],
   "source": [
    "CONSONANTS = {\n",
    "    'NASAL': {\n",
    "        'LABIAL': ['m', 'mʲ', 'm̩'],\n",
    "        'LABIODENTAL': ['ɱ'],\n",
    "        'DENTAL': ['n̪'],\n",
    "        'ALVEOLAR': ['n', 'n̩'],\n",
    "        'PALATAL': ['ɲ'],\n",
    "        'VELAR': ['ŋ']\n",
    "    },\n",
    "    'STOP': {\n",
    "        'LABIAL': ['p', 'b'],\n",
    "        'DENTAL': ['t', 'd'],\n",
    "        'ALVEOLOPALATAL': ['c', 'ɟ'],\n",
    "        'VELAR': ['k', 'g'],\n",
    "        'GLOTTAL': ['ʔ']\n",
    "    },\n",
    "    'AFFRICATE': {\n",
    "        'ALVEOPALATAL': ['tʃ', 'dʒ']\n",
    "    },\n",
    "    'SIBILANT': {\n",
    "        'ALVEOLAR': ['s', 'z'],\n",
    "        'ALVEOLOPALATAL': ['ʃ', 'ʒ']\n",
    "    },\n",
    "    'FRICATIVE': {\n",
    "        'LABIAL': ['f', 'v', 'fʲ', 'vʲ'],\n",
    "        'DENTAL': ['θ', 'ð'],\n",
    "        'PALATAL': ['ç'],\n",
    "        'GLOTTAL': ['h']\n",
    "    },\n",
    "    'APPROXIMANT': {\n",
    "        'LABIAL': ['w'],\n",
    "        'ALVEOLOPALATAL': ['ɹ'],\n",
    "        'PALATAL': ['j']\n",
    "    },\n",
    "    'TAP': {\n",
    "        'ALVEOLAR': ['ɾ']\n",
    "    },\n",
    "    'LATERAL': {\n",
    "        'ALVEOLAR': ['l', 'ɫ', 'ɫ̩'],\n",
    "        'PALATAL': ['ʎ']\n",
    "    }\n",
    "}"
   ]
  },
  {
   "cell_type": "code",
   "execution_count": 4,
   "id": "77157feb-230f-455d-b1cf-d5407614de68",
   "metadata": {
    "tags": []
   },
   "outputs": [],
   "source": [
    "VOWELS = {\n",
    "    'CLOSE': {\n",
    "        'FRONT': ['i', 'iː'],\n",
    "        'NEAR-FRONT': ['ɪ'],\n",
    "        'CENTRAL': ['u', 'uː']\n",
    "    },\n",
    "    'CLOSE-MID': {\n",
    "        'FRONT': ['ej', 'e'],\n",
    "        'CENTRAL': ['ə', 'ɘ'],\n",
    "        'BACK': ['ow']\n",
    "    },\n",
    "    'OPEN-MID': {\n",
    "        'FRONT': ['ɛ', 'æ'],\n",
    "        'CENTRAL': ['ɜ', 'ɐ'],\n",
    "        'BACK': ['ʌ', 'ɔ', 'o'],\n",
    "    },\n",
    "    'OPEN': {\n",
    "        'BACK': ['ɑ', 'ɑː', 'ɒ', 'ɒː']\n",
    "    }\n",
    "}"
   ]
  },
  {
   "cell_type": "code",
   "execution_count": 11,
   "id": "eabc9584-40aa-4406-a61e-fb8c0424c31a",
   "metadata": {
    "tags": []
   },
   "outputs": [],
   "source": [
    "PHONES_TO_MASK = []\n",
    "\n",
    "PHONES_TO_MASK.extend(CONSONANTS['NASAL']['PALATAL'])\n",
    "PHONES_TO_MASK.extend(CONSONANTS['AFFRICATE']['ALVEOPALATAL'])\n",
    "PHONES_TO_MASK.extend(CONSONANTS['SIBILANT']['ALVEOLOPALATAL'])\n",
    "PHONES_TO_MASK.extend(CONSONANTS['FRICATIVE']['PALATAL'])\n",
    "PHONES_TO_MASK.extend(CONSONANTS['APPROXIMANT']['PALATAL'])\n",
    "PHONES_TO_MASK.extend(CONSONANTS['LATERAL']['PALATAL'])\n",
    "\n",
    "# for position in VOWELS['OPEN-MID']:\n",
    "#     PHONES_TO_MASK.extend(VOWELS['OPEN-MID'][position])"
   ]
  },
  {
   "cell_type": "code",
   "execution_count": 13,
   "id": "c4707ddf-0ca0-4972-8ee3-56368be7f0a0",
   "metadata": {
    "tags": []
   },
   "outputs": [
    {
     "data": {
      "text/plain": [
       "['ɲ', 'tʃ', 'dʒ', 'ʃ', 'ʒ', 'ç', 'j', 'ʎ']"
      ]
     },
     "execution_count": 13,
     "metadata": {},
     "output_type": "execute_result"
    }
   ],
   "source": [
    "PHONES_TO_MASK"
   ]
  },
  {
   "cell_type": "code",
   "execution_count": 15,
   "id": "df54b172-2d21-4b30-a011-d8b743eb85d4",
   "metadata": {},
   "outputs": [
    {
     "name": "stderr",
     "output_type": "stream",
     "text": [
      "100%|██████████| 37140/37140 [33:38<00:00, 18.40it/s] \n"
     ]
    }
   ],
   "source": [
    "DIR = 'audio\\\\train'\n",
    "\n",
    "for filename in tqdm(os.listdir(DIR)):\n",
    "    if len(PHONES_TO_MASK) > 0:\n",
    "        file = os.path.join(DIR, filename)        \n",
    "        if os.path.isfile(file):\n",
    "            rec = filename.split('.')[0]\n",
    "            if rec.endswith('w'):\n",
    "                speaker = filename.split('u')[0]\n",
    "                \n",
    "                audio = AudioSegment.from_file(file)\n",
    "                alignment = textgrid.TextGrid.fromFile('FA_output/{}/{}.TextGrid'.format(speaker, rec))\n",
    "                phones_tier = alignment.getList('phones')[0]\n",
    "\n",
    "                f_intervals = [(interval.minTime, interval.maxTime) for interval in phones_tier if interval.mark in PHONES_TO_MASK]\n",
    "                # f_intervals = [x for x in f_intervals if bool(random.getrandbits(1))] # probabilities\n",
    "\n",
    "                if len(f_intervals) > 0:\n",
    "                    for start_time, end_time in f_intervals:\n",
    "                        start_time_ms = start_time * 1000\n",
    "                        end_time_ms = end_time * 1000\n",
    "\n",
    "                        silence = AudioSegment.silent(duration=end_time_ms - start_time_ms)\n",
    "                        audio = audio[:start_time_ms] + silence + audio[end_time_ms:]\n",
    "\n",
    "                    audio.export(\"augmented_data/palatals/{}_masked.WAV\".format(rec), format=\"wav\") "
   ]
  }
 ],
 "metadata": {
  "kernelspec": {
   "display_name": "Python 3 (ipykernel)",
   "language": "python",
   "name": "python3"
  },
  "language_info": {
   "codemirror_mode": {
    "name": "ipython",
    "version": 3
   },
   "file_extension": ".py",
   "mimetype": "text/x-python",
   "name": "python",
   "nbconvert_exporter": "python",
   "pygments_lexer": "ipython3",
   "version": "3.11.5"
  }
 },
 "nbformat": 4,
 "nbformat_minor": 5
}
