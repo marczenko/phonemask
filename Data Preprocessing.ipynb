{
 "cells": [
  {
   "cell_type": "markdown",
   "id": "6269e9ad-fac4-48e2-a83e-2799ee299ef4",
   "metadata": {},
   "source": [
    "## Data preprocessing"
   ]
  },
  {
   "cell_type": "code",
   "execution_count": 26,
   "id": "ac6e588e-f9bc-4f7a-bd26-68a91b1abbce",
   "metadata": {},
   "outputs": [],
   "source": [
    "import pandas as pd\n",
    "from sklearn.model_selection import train_test_split\n",
    "from sklearn.utils import shuffle\n",
    "import librosa"
   ]
  },
  {
   "cell_type": "code",
   "execution_count": 27,
   "id": "90b4e419-d9a2-4a24-a06d-7fe3073c1d3c",
   "metadata": {},
   "outputs": [],
   "source": [
    "import os\n",
    "import shutil"
   ]
  },
  {
   "cell_type": "code",
   "execution_count": 28,
   "id": "1c215f26-bfad-4814-aec7-d8099e4aa05f",
   "metadata": {},
   "outputs": [],
   "source": [
    "from datasets import load_dataset, Dataset, Audio, DatasetDict"
   ]
  },
  {
   "cell_type": "code",
   "execution_count": 34,
   "id": "18f6671b-f45f-4fa2-986c-bf9779236996",
   "metadata": {},
   "outputs": [],
   "source": [
    "df = pd.read_csv('labels.txt', sep='\\t')"
   ]
  },
  {
   "cell_type": "code",
   "execution_count": 35,
   "id": "d4b68efd-ad22-451a-b218-44005c40d634",
   "metadata": {},
   "outputs": [],
   "source": [
    "df = df.rename(columns={'FILE': 'file', 'TRANSCRIPT': 'text'})"
   ]
  },
  {
   "cell_type": "code",
   "execution_count": 36,
   "id": "90616f8c-0dd3-47db-89d3-9b07c52de3cd",
   "metadata": {},
   "outputs": [],
   "source": [
    "df['id'] = df[\"file\"].apply(lambda x: x.split('\\\\')[-1].split('.')[0])"
   ]
  },
  {
   "cell_type": "code",
   "execution_count": 37,
   "id": "e5b68afc-335f-4f5d-814b-34607b69bc62",
   "metadata": {},
   "outputs": [],
   "source": [
    "def transform_subset(row):\n",
    "    utt_id = int(row['ID'])\n",
    "    if utt_id <= 402:\n",
    "        return 'train'\n",
    "    elif utt_id >= 403 and utt_id <= 427:\n",
    "        return 'dev'\n",
    "    elif utt_id >= 428 and utt_id <= 452:\n",
    "        return 'test'"
   ]
  },
  {
   "cell_type": "code",
   "execution_count": 38,
   "id": "e2d2e220-7338-4d0d-8742-ab82c97ad672",
   "metadata": {},
   "outputs": [],
   "source": [
    "df['SUBSET'] = df.apply(transform_subset, axis=1)"
   ]
  },
  {
   "cell_type": "code",
   "execution_count": 39,
   "id": "0e1b07b7-4862-41ed-b746-918b0e45d2b9",
   "metadata": {},
   "outputs": [
    {
     "data": {
      "text/html": [
       "<div>\n",
       "<style scoped>\n",
       "    .dataframe tbody tr th:only-of-type {\n",
       "        vertical-align: middle;\n",
       "    }\n",
       "\n",
       "    .dataframe tbody tr th {\n",
       "        vertical-align: top;\n",
       "    }\n",
       "\n",
       "    .dataframe thead th {\n",
       "        text-align: right;\n",
       "    }\n",
       "</style>\n",
       "<table border=\"1\" class=\"dataframe\">\n",
       "  <thead>\n",
       "    <tr style=\"text-align: right;\">\n",
       "      <th></th>\n",
       "      <th>file</th>\n",
       "      <th>SPEAKER</th>\n",
       "      <th>GENDER</th>\n",
       "      <th>AGE</th>\n",
       "      <th>LANGUAGES</th>\n",
       "      <th>ACCENT</th>\n",
       "      <th>MODE</th>\n",
       "      <th>SUBSET</th>\n",
       "      <th>ID</th>\n",
       "      <th>text</th>\n",
       "      <th>id</th>\n",
       "    </tr>\n",
       "  </thead>\n",
       "  <tbody>\n",
       "    <tr>\n",
       "      <th>0</th>\n",
       "      <td>nist\\TEST\\whisper\\US\\101\\s101u011w.WAV</td>\n",
       "      <td>101</td>\n",
       "      <td>F</td>\n",
       "      <td>15-20</td>\n",
       "      <td>EN,SP</td>\n",
       "      <td>US</td>\n",
       "      <td>whisper</td>\n",
       "      <td>train</td>\n",
       "      <td>11</td>\n",
       "      <td>He will allow a rare lie.</td>\n",
       "      <td>s101u011w</td>\n",
       "    </tr>\n",
       "    <tr>\n",
       "      <th>1</th>\n",
       "      <td>nist\\TEST\\whisper\\US\\101\\s101u017w.WAV</td>\n",
       "      <td>101</td>\n",
       "      <td>F</td>\n",
       "      <td>15-20</td>\n",
       "      <td>EN,SP</td>\n",
       "      <td>US</td>\n",
       "      <td>whisper</td>\n",
       "      <td>train</td>\n",
       "      <td>17</td>\n",
       "      <td>Carl lives in a lively home.</td>\n",
       "      <td>s101u017w</td>\n",
       "    </tr>\n",
       "    <tr>\n",
       "      <th>2</th>\n",
       "      <td>nist\\TEST\\whisper\\US\\101\\s101u020w.WAV</td>\n",
       "      <td>101</td>\n",
       "      <td>F</td>\n",
       "      <td>15-20</td>\n",
       "      <td>EN,SP</td>\n",
       "      <td>US</td>\n",
       "      <td>whisper</td>\n",
       "      <td>train</td>\n",
       "      <td>20</td>\n",
       "      <td>She wore warm, fleecy, woolen overalls.</td>\n",
       "      <td>s101u020w</td>\n",
       "    </tr>\n",
       "    <tr>\n",
       "      <th>3</th>\n",
       "      <td>nist\\TEST\\whisper\\US\\101\\s101u023w.WAV</td>\n",
       "      <td>101</td>\n",
       "      <td>F</td>\n",
       "      <td>15-20</td>\n",
       "      <td>EN,SP</td>\n",
       "      <td>US</td>\n",
       "      <td>whisper</td>\n",
       "      <td>train</td>\n",
       "      <td>23</td>\n",
       "      <td>Those musicians harmonize marvelously.</td>\n",
       "      <td>s101u023w</td>\n",
       "    </tr>\n",
       "    <tr>\n",
       "      <th>4</th>\n",
       "      <td>nist\\TEST\\whisper\\US\\101\\s101u025w.WAV</td>\n",
       "      <td>101</td>\n",
       "      <td>F</td>\n",
       "      <td>15-20</td>\n",
       "      <td>EN,SP</td>\n",
       "      <td>US</td>\n",
       "      <td>whisper</td>\n",
       "      <td>train</td>\n",
       "      <td>25</td>\n",
       "      <td>Only lawyers love millionaires.</td>\n",
       "      <td>s101u025w</td>\n",
       "    </tr>\n",
       "    <tr>\n",
       "      <th>...</th>\n",
       "      <td>...</td>\n",
       "      <td>...</td>\n",
       "      <td>...</td>\n",
       "      <td>...</td>\n",
       "      <td>...</td>\n",
       "      <td>...</td>\n",
       "      <td>...</td>\n",
       "      <td>...</td>\n",
       "      <td>...</td>\n",
       "      <td>...</td>\n",
       "      <td>...</td>\n",
       "    </tr>\n",
       "    <tr>\n",
       "      <th>42122</th>\n",
       "      <td>nist\\TRAIN\\normal\\SG\\019\\s019u448n.WAV</td>\n",
       "      <td>19</td>\n",
       "      <td>F</td>\n",
       "      <td>25-30</td>\n",
       "      <td>EN,MA</td>\n",
       "      <td>SG</td>\n",
       "      <td>normal</td>\n",
       "      <td>test</td>\n",
       "      <td>448</td>\n",
       "      <td>Spherical gifts are difficult to wrap.</td>\n",
       "      <td>s019u448n</td>\n",
       "    </tr>\n",
       "    <tr>\n",
       "      <th>42123</th>\n",
       "      <td>nist\\TRAIN\\normal\\SG\\019\\s019u449n.WAV</td>\n",
       "      <td>19</td>\n",
       "      <td>F</td>\n",
       "      <td>25-30</td>\n",
       "      <td>EN,MA</td>\n",
       "      <td>SG</td>\n",
       "      <td>normal</td>\n",
       "      <td>test</td>\n",
       "      <td>449</td>\n",
       "      <td>Ralph prepared red snapper with fresh lemon sa...</td>\n",
       "      <td>s019u449n</td>\n",
       "    </tr>\n",
       "    <tr>\n",
       "      <th>42124</th>\n",
       "      <td>nist\\TRAIN\\normal\\SG\\019\\s019u450n.WAV</td>\n",
       "      <td>19</td>\n",
       "      <td>F</td>\n",
       "      <td>25-30</td>\n",
       "      <td>EN,MA</td>\n",
       "      <td>SG</td>\n",
       "      <td>normal</td>\n",
       "      <td>test</td>\n",
       "      <td>450</td>\n",
       "      <td>Roy ignored the spurious data points in drawin...</td>\n",
       "      <td>s019u450n</td>\n",
       "    </tr>\n",
       "    <tr>\n",
       "      <th>42125</th>\n",
       "      <td>nist\\TRAIN\\normal\\SG\\019\\s019u451n.WAV</td>\n",
       "      <td>19</td>\n",
       "      <td>F</td>\n",
       "      <td>25-30</td>\n",
       "      <td>EN,MA</td>\n",
       "      <td>SG</td>\n",
       "      <td>normal</td>\n",
       "      <td>test</td>\n",
       "      <td>451</td>\n",
       "      <td>The thick elm forest was nearly overwhelmed by...</td>\n",
       "      <td>s019u451n</td>\n",
       "    </tr>\n",
       "    <tr>\n",
       "      <th>42126</th>\n",
       "      <td>nist\\TRAIN\\normal\\SG\\019\\s019u452n.WAV</td>\n",
       "      <td>19</td>\n",
       "      <td>F</td>\n",
       "      <td>25-30</td>\n",
       "      <td>EN,MA</td>\n",
       "      <td>SG</td>\n",
       "      <td>normal</td>\n",
       "      <td>test</td>\n",
       "      <td>452</td>\n",
       "      <td>In developing film, many toxic chemicals are u...</td>\n",
       "      <td>s019u452n</td>\n",
       "    </tr>\n",
       "  </tbody>\n",
       "</table>\n",
       "<p>42127 rows × 11 columns</p>\n",
       "</div>"
      ],
      "text/plain": [
       "                                         file  SPEAKER GENDER    AGE  \\\n",
       "0      nist\\TEST\\whisper\\US\\101\\s101u011w.WAV      101      F  15-20   \n",
       "1      nist\\TEST\\whisper\\US\\101\\s101u017w.WAV      101      F  15-20   \n",
       "2      nist\\TEST\\whisper\\US\\101\\s101u020w.WAV      101      F  15-20   \n",
       "3      nist\\TEST\\whisper\\US\\101\\s101u023w.WAV      101      F  15-20   \n",
       "4      nist\\TEST\\whisper\\US\\101\\s101u025w.WAV      101      F  15-20   \n",
       "...                                       ...      ...    ...    ...   \n",
       "42122  nist\\TRAIN\\normal\\SG\\019\\s019u448n.WAV       19      F  25-30   \n",
       "42123  nist\\TRAIN\\normal\\SG\\019\\s019u449n.WAV       19      F  25-30   \n",
       "42124  nist\\TRAIN\\normal\\SG\\019\\s019u450n.WAV       19      F  25-30   \n",
       "42125  nist\\TRAIN\\normal\\SG\\019\\s019u451n.WAV       19      F  25-30   \n",
       "42126  nist\\TRAIN\\normal\\SG\\019\\s019u452n.WAV       19      F  25-30   \n",
       "\n",
       "      LANGUAGES ACCENT     MODE SUBSET   ID  \\\n",
       "0         EN,SP     US  whisper  train   11   \n",
       "1         EN,SP     US  whisper  train   17   \n",
       "2         EN,SP     US  whisper  train   20   \n",
       "3         EN,SP     US  whisper  train   23   \n",
       "4         EN,SP     US  whisper  train   25   \n",
       "...         ...    ...      ...    ...  ...   \n",
       "42122     EN,MA     SG   normal   test  448   \n",
       "42123     EN,MA     SG   normal   test  449   \n",
       "42124     EN,MA     SG   normal   test  450   \n",
       "42125     EN,MA     SG   normal   test  451   \n",
       "42126     EN,MA     SG   normal   test  452   \n",
       "\n",
       "                                                    text         id  \n",
       "0                              He will allow a rare lie.  s101u011w  \n",
       "1                           Carl lives in a lively home.  s101u017w  \n",
       "2                She wore warm, fleecy, woolen overalls.  s101u020w  \n",
       "3                 Those musicians harmonize marvelously.  s101u023w  \n",
       "4                        Only lawyers love millionaires.  s101u025w  \n",
       "...                                                  ...        ...  \n",
       "42122             Spherical gifts are difficult to wrap.  s019u448n  \n",
       "42123  Ralph prepared red snapper with fresh lemon sa...  s019u449n  \n",
       "42124  Roy ignored the spurious data points in drawin...  s019u450n  \n",
       "42125  The thick elm forest was nearly overwhelmed by...  s019u451n  \n",
       "42126  In developing film, many toxic chemicals are u...  s019u452n  \n",
       "\n",
       "[42127 rows x 11 columns]"
      ]
     },
     "execution_count": 39,
     "metadata": {},
     "output_type": "execute_result"
    }
   ],
   "source": [
    "df"
   ]
  },
  {
   "cell_type": "code",
   "execution_count": 13,
   "id": "6fd79f79-9044-4e0c-8671-ea09c3d27bed",
   "metadata": {
    "tags": []
   },
   "outputs": [],
   "source": [
    "df_an = pd.read_csv('labels.txt', sep='\\t')"
   ]
  },
  {
   "cell_type": "code",
   "execution_count": 15,
   "id": "baa99550-f54d-42f8-8f0d-b9ee03e5e4f0",
   "metadata": {
    "tags": []
   },
   "outputs": [],
   "source": [
    "df_an['id'] = df_an[\"FILE\"].apply(lambda x: x.split('\\\\')[-1].split('.')[0])"
   ]
  },
  {
   "cell_type": "code",
   "execution_count": 17,
   "id": "e948e61b-ac07-43e3-8c93-af4de4400dba",
   "metadata": {
    "tags": []
   },
   "outputs": [
    {
     "name": "stdout",
     "output_type": "stream",
     "text": [
      "['s002u267w', 's002u289w', 's002u291w', 's003u117w', 's101u003n', 's101u004n', 's101u005n', 's101u005w', 's101u006n', 's101u006w', 's101u007n', 's101u007w', 's101u008n', 's101u008w', 's101u009n', 's101u009w', 's101u010n', 's101u010w', 's101u011n', 's101u011w', 's101u012n', 's101u012w', 's101u013w', 's101u014w', 's101u015w', 's101u016w', 's101u017w', 's101u018w', 's101u019w', 's101u020w', 's101u021w', 's101u022w', 's101u023w', 's101u024w', 's101u025w', 's101u026w', 's101u027w', 's101u028w', 's101u029w', 's101u030w', 's101u031w', 's101u032w', 's101u033w', 's101u034w', 's104u003w', 's104u004w', 's104u005w', 's104u006w', 's104u007w', 's104u008n', 's104u008w', 's104u009w', 's104u010w', 's104u011w', 's104u012w', 's104u013w', 's104u014w', 's104u015w', 's104u016w', 's104u017w', 's104u018w', 's104u019w', 's104u020w', 's104u021w', 's104u022w', 's104u023w', 's104u024w', 's104u025w', 's104u027w', 's104u029w', 's104u030w', 's104u031w', 's104u032w', 's104u033w', 's104u035n', 's104u035w', 's104u037w', 's104u038w', 's104u039w', 's104u040w', 's104u041w', 's104u042w', 's104u043w', 's104u044w', 's104u045w', 's104u046w', 's104u047n', 's104u047w', 's104u048w', 's104u049w', 's104u050w', 's104u051n', 's104u051w', 's104u053w', 's104u054w', 's104u055w', 's104u056w', 's104u057w', 's104u058w', 's104u061w', 's104u062w', 's104u063w', 's104u064w', 's104u065w', 's104u067w', 's104u068w', 's104u069w', 's104u070w', 's104u071w', 's104u072w', 's104u073w', 's104u074w', 's104u075w', 's104u076w', 's104u077w', 's104u078w', 's104u080w', 's104u081w', 's104u082n', 's104u082w', 's104u083w', 's104u084w', 's104u085w', 's104u086w', 's104u089w', 's104u090w', 's104u091w', 's104u093w', 's104u094w', 's104u095w', 's104u096w', 's104u098w', 's104u099w', 's104u100w', 's104u101w', 's104u102w', 's104u103w', 's104u106w', 's104u107w', 's104u108w', 's104u109w', 's104u110w', 's104u111w', 's104u112w', 's104u113n', 's104u113w', 's104u114w', 's104u115w', 's104u117w', 's104u118w', 's104u119w', 's104u121w', 's104u122n', 's104u122w', 's104u123w', 's104u124w', 's104u125w', 's104u126w', 's104u127w', 's104u128n', 's104u128w', 's104u129w', 's104u130w', 's104u131w', 's104u132w', 's104u133w', 's104u134w', 's104u136w', 's104u137w', 's104u138w', 's104u139w', 's104u140w', 's104u141w', 's104u142w', 's104u143w', 's104u144w', 's104u145w', 's104u146w', 's104u147w', 's104u149w', 's104u150w', 's104u151w', 's104u152w', 's104u154w', 's104u156w', 's104u157w', 's104u158w', 's104u159w', 's104u160w', 's104u161w', 's104u162w', 's104u164w', 's104u165w', 's104u166w', 's104u167w', 's104u168w', 's104u169w', 's104u170w', 's104u171w', 's104u172w', 's104u173n', 's104u173w', 's104u174w', 's104u175w', 's104u177w', 's104u178w', 's104u180w', 's104u181w', 's104u182w', 's104u183w', 's104u184w', 's104u185w', 's104u186w', 's104u187w', 's104u188w', 's104u189w', 's104u190w', 's104u191w', 's104u192w', 's104u193w', 's104u194w', 's104u195w', 's104u196n', 's104u196w', 's104u197n', 's104u197w', 's104u198w', 's104u199n', 's104u199w', 's104u200w', 's104u201w', 's104u202w', 's104u203w', 's104u204w', 's104u205w', 's104u206w', 's104u207w', 's104u208w', 's104u209w', 's104u210w', 's104u211w', 's104u212w', 's104u213n', 's104u213w', 's104u214w', 's104u215w', 's104u216w', 's104u217w', 's104u220w', 's104u221w', 's104u222w', 's104u223w', 's104u224w', 's104u225w', 's104u226w', 's104u227w', 's104u229n', 's104u229w', 's104u231w', 's104u232w', 's104u233w', 's104u234w', 's104u235w', 's104u236w', 's104u237w', 's104u238w', 's104u239w', 's104u241w', 's104u242n', 's104u242w', 's104u243w', 's104u244w', 's104u245w', 's104u246w', 's104u247w', 's104u248w', 's104u249w', 's104u250w', 's104u251w', 's104u252w', 's104u253w', 's104u255w', 's104u256w', 's104u257w', 's104u258w', 's104u261w', 's104u262w', 's104u263w', 's104u264w', 's104u265w', 's104u266n', 's104u266w', 's104u267n', 's104u267w', 's104u268w', 's104u269w', 's104u270w', 's104u271n', 's104u271w', 's104u272w', 's104u273w', 's104u274w', 's104u275w', 's104u276w', 's104u278w', 's104u279w', 's104u280w', 's104u281w', 's104u282w', 's104u283w', 's104u284w', 's104u285w', 's104u286w', 's104u287w', 's104u288w', 's104u289n', 's104u289w', 's104u290w', 's104u292w', 's104u293w', 's104u295w', 's104u296w', 's104u298w', 's104u300w', 's104u302w', 's104u303w', 's104u304w', 's104u305n', 's104u305w', 's104u307w', 's104u310w', 's104u311w', 's104u312w', 's104u313w', 's104u314w', 's104u316w', 's104u317w', 's104u318w', 's104u319w', 's104u320w', 's104u321w', 's104u322w', 's104u323n', 's104u323w', 's104u324w', 's104u325w', 's104u326w', 's104u327w', 's104u328w', 's104u329w', 's104u330w', 's104u331w', 's104u332w', 's104u333w', 's104u334w', 's104u335w', 's104u336w', 's104u337w', 's104u338w', 's104u339w', 's104u340w', 's104u341w', 's104u342n', 's104u342w', 's104u343w', 's104u344w', 's104u345w', 's104u346w', 's104u347w', 's104u348w', 's104u349w', 's104u350w', 's104u351w', 's104u354w', 's104u355w', 's104u356w', 's104u357w', 's104u358w', 's104u359n', 's104u359w', 's104u360w', 's104u361w', 's104u362w', 's104u363n', 's104u363w', 's104u364n', 's104u364w', 's104u365w', 's104u366w', 's104u367w', 's104u368w', 's104u369w', 's104u370w', 's104u371w', 's104u374w', 's104u375w', 's104u376w', 's104u377w', 's104u378w', 's104u379w', 's104u380w', 's104u381w', 's104u382w', 's104u383w', 's104u384w', 's104u385w', 's104u386n', 's104u386w', 's104u387w', 's104u388w', 's104u389w', 's104u390w', 's104u391w', 's104u392w', 's104u394w', 's104u397w', 's104u398w', 's104u399w', 's104u400w', 's104u401w', 's104u402w', 's104u403w', 's104u404w', 's104u405w', 's104u406w', 's104u408n', 's104u408w', 's104u409w', 's104u410w', 's104u411w', 's104u412w', 's104u413w', 's104u414w', 's104u415w', 's104u416w', 's104u417w', 's104u418w', 's104u419w', 's104u421w', 's104u422w', 's104u423w', 's104u424w', 's104u425w', 's104u426w', 's104u427w', 's104u428w', 's104u429w', 's104u430n', 's104u430w', 's104u431w', 's104u432w', 's104u433w', 's104u434w', 's104u435w', 's104u436w', 's104u437w', 's104u438w', 's104u439w', 's104u440w', 's104u441w', 's104u442w', 's104u443w', 's104u444w', 's104u445w', 's104u446w', 's104u448w', 's104u449w', 's104u450w', 's104u451w', 's104u452w', 's124u087w', 's124u089w']\n"
     ]
    }
   ],
   "source": [
    "z = []\n",
    "for _ in df_an['id'].to_list():\n",
    "    if _ not in df['id'].to_list():\n",
    "        z.append(_)\n",
    "print(sorted(z))"
   ]
  },
  {
   "cell_type": "code",
   "execution_count": 21,
   "id": "94bce0d6-9462-4a00-867f-ac7d66bddaf8",
   "metadata": {
    "tags": []
   },
   "outputs": [
    {
     "name": "stdout",
     "output_type": "stream",
     "text": [
      "46\n"
     ]
    }
   ],
   "source": [
    "print(len([_ for _ in z if _.split('u')[0].split('s')[1] != '104']))"
   ]
  },
  {
   "cell_type": "code",
   "execution_count": 24,
   "id": "23e50908-5b68-4215-9564-73415f0511d9",
   "metadata": {
    "tags": []
   },
   "outputs": [
    {
     "data": {
      "text/plain": [
       "37172"
      ]
     },
     "execution_count": 24,
     "metadata": {},
     "output_type": "execute_result"
    }
   ],
   "source": [
    "len(df[df['SUBSET'] == 'train'])"
   ]
  },
  {
   "cell_type": "code",
   "execution_count": 25,
   "id": "8e6cf982-dc50-48f1-8e0a-6f722492c63a",
   "metadata": {
    "tags": []
   },
   "outputs": [
    {
     "data": {
      "text/plain": [
       "2250"
      ]
     },
     "execution_count": 25,
     "metadata": {},
     "output_type": "execute_result"
    }
   ],
   "source": [
    "len(df[df['SUBSET'] == 'dev'])"
   ]
  },
  {
   "cell_type": "code",
   "execution_count": 26,
   "id": "5aa8b034-e44f-49c4-998f-6c318cf55c4c",
   "metadata": {
    "tags": []
   },
   "outputs": [
    {
     "data": {
      "text/plain": [
       "2233"
      ]
     },
     "execution_count": 26,
     "metadata": {},
     "output_type": "execute_result"
    }
   ],
   "source": [
    "len(df[df['SUBSET'] == 'test'])"
   ]
  },
  {
   "cell_type": "code",
   "execution_count": 15,
   "id": "9212a369-421c-40b0-9348-62fe6b3e6381",
   "metadata": {
    "tags": []
   },
   "outputs": [],
   "source": [
    "for i, row in df.iterrows():\n",
    "    shutil.move(row['file'], 'audio/{}/{}.WAV'.format(row['SUBSET'].lower(), row['id']))"
   ]
  },
  {
   "cell_type": "code",
   "execution_count": 40,
   "id": "39610a32-98a3-4cb7-a692-d21e1d19609b",
   "metadata": {
    "tags": []
   },
   "outputs": [
    {
     "name": "stdout",
     "output_type": "stream",
     "text": [
      "Cleanup completed.\n"
     ]
    }
   ],
   "source": [
    "main_directory = 'audio'\n",
    "\n",
    "def get_file_id(filename):\n",
    "    return os.path.splitext(filename)[0]\n",
    "\n",
    "for root, dirs, files in os.walk(main_directory):\n",
    "    for file in files:\n",
    "        file_id = get_file_id(file)\n",
    "        if file_id not in ids:\n",
    "            file_path = os.path.join(root, file)\n",
    "            print(f\"Deleting file: {file_path}\")\n",
    "            os.remove(file_path)\n",
    "\n",
    "print(\"Cleanup completed.\")"
   ]
  },
  {
   "cell_type": "code",
   "execution_count": 18,
   "id": "6fa49c12-2305-4561-82a5-f35cdba188be",
   "metadata": {
    "tags": []
   },
   "outputs": [],
   "source": [
    "ids = df['id'].to_list()"
   ]
  },
  {
   "cell_type": "code",
   "execution_count": 21,
   "id": "0de1bed5-a55d-4f16-9098-0ab3eba7ef76",
   "metadata": {
    "tags": []
   },
   "outputs": [],
   "source": [
    "with open('ids.txt', 'w', encoding='utf-8') as f:\n",
    "    for _ in ids:\n",
    "        f.write('{}\\n'.format(_))"
   ]
  },
  {
   "cell_type": "code",
   "execution_count": 11,
   "id": "d8a1500b-2a3e-4a13-8653-050c489bb283",
   "metadata": {
    "tags": []
   },
   "outputs": [
    {
     "name": "stdout",
     "output_type": "stream",
     "text": [
      "41621\n"
     ]
    }
   ],
   "source": [
    "def collect_files(folder_path):\n",
    "    file_list = []\n",
    "    for root, dirs, files in os.walk(folder_path):\n",
    "        for file in files:\n",
    "            file_list.append(os.path.join(root, file))\n",
    "    return file_list\n",
    "\n",
    "main_folder = \"FA_output\"\n",
    "files = collect_files(main_folder)\n",
    "print(len(files))"
   ]
  },
  {
   "cell_type": "code",
   "execution_count": 12,
   "id": "cabe2ab3-3cd1-4e35-9867-245453f030ec",
   "metadata": {
    "tags": []
   },
   "outputs": [],
   "source": [
    "files = [x.split('\\\\')[-1].split('.')[0] for x in files]"
   ]
  },
  {
   "cell_type": "code",
   "execution_count": 13,
   "id": "37be646a-216e-4c44-84ae-cf274665388e",
   "metadata": {
    "tags": []
   },
   "outputs": [],
   "source": [
    "n_files = df[df['SUBSET'] == 'train']['id'].tolist()"
   ]
  },
  {
   "cell_type": "code",
   "execution_count": 14,
   "id": "2eee02d8-b087-438f-89e9-f8dba57ee31c",
   "metadata": {
    "tags": []
   },
   "outputs": [],
   "source": [
    "missin = []\n",
    "for _ in n_files:\n",
    "    if _ not in files:\n",
    "        missin.append(_)"
   ]
  },
  {
   "cell_type": "code",
   "execution_count": 25,
   "id": "19f5497f-2ca9-45f8-8976-bba2f479f30a",
   "metadata": {
    "tags": []
   },
   "outputs": [
    {
     "name": "stdout",
     "output_type": "stream",
     "text": [
      "['s104u052w', 's104u059w', 's104u060w', 's104u066w', 's104u087w', 's104u120w', 's104u148w', 's104u176w', 's104u219w', 's104u240w', 's104u299w', 's104u306w', 's104u352w', 's104u372w', 's104u395w', 's104u396w', 's003u115w', 's104u026w', 's104u028w', 's104u036w', 's104u079w', 's104u088w', 's104u097w', 's104u179w', 's104u218w', 's104u228w', 's104u259w', 's104u260w', 's104u291w', 's104u297w', 's104u301w', 's104u309w']\n"
     ]
    }
   ],
   "source": [
    "print(missin)"
   ]
  },
  {
   "cell_type": "code",
   "execution_count": 27,
   "id": "6f42fd29-f44a-4e5f-911e-2f321e3898b6",
   "metadata": {
    "tags": []
   },
   "outputs": [
    {
     "name": "stdout",
     "output_type": "stream",
     "text": [
      "File not found: s104u052w\n",
      "File not found: s104u059w\n",
      "Moved: s104u060w\n",
      "Moved: s104u066w\n",
      "Moved: s104u087w\n",
      "Moved: s104u120w\n",
      "Moved: s104u148w\n",
      "Moved: s104u176w\n",
      "Moved: s104u219w\n",
      "Moved: s104u240w\n",
      "Moved: s104u299w\n",
      "Moved: s104u306w\n",
      "Moved: s104u352w\n",
      "Moved: s104u372w\n",
      "Moved: s104u395w\n",
      "Moved: s104u396w\n",
      "Moved: s003u115w\n",
      "Moved: s104u026w\n",
      "Moved: s104u028w\n",
      "Moved: s104u036w\n",
      "Moved: s104u079w\n",
      "Moved: s104u088w\n",
      "Moved: s104u097w\n",
      "Moved: s104u179w\n",
      "Moved: s104u218w\n",
      "Moved: s104u228w\n",
      "Moved: s104u259w\n",
      "Moved: s104u260w\n",
      "Moved: s104u291w\n",
      "Moved: s104u297w\n",
      "Moved: s104u301w\n",
      "Moved: s104u309w\n"
     ]
    }
   ],
   "source": [
    "source_dir = 'audio/train'\n",
    "target_dir = 'audio/throw'\n",
    "\n",
    "for file in missin:\n",
    "    source_path = os.path.join(source_dir, file+'.WAV')\n",
    "    target_path = os.path.join(target_dir, file+'.WAV')\n",
    "    \n",
    "    if os.path.exists(source_path):\n",
    "        shutil.move(source_path, target_path)\n",
    "        print(f'Moved: {file}')\n",
    "    else:\n",
    "        print(f'File not found: {file}')"
   ]
  },
  {
   "cell_type": "code",
   "execution_count": 4,
   "id": "2993d13e-fc23-4fc4-b19d-d5d980d42c30",
   "metadata": {
    "tags": []
   },
   "outputs": [
    {
     "name": "stdout",
     "output_type": "stream",
     "text": [
      "Folder 's000' contains 900 files.\n",
      "Folder 's001' contains 900 files.\n",
      "Folder 's002' contains 897 files.\n",
      "Folder 's003' contains 898 files.\n",
      "Folder 's004' contains 899 files.\n",
      "Folder 's005' contains 900 files.\n",
      "Folder 's006' contains 900 files.\n",
      "Folder 's007' contains 900 files.\n",
      "Folder 's008' contains 900 files.\n",
      "Folder 's009' contains 900 files.\n",
      "Folder 's010' contains 900 files.\n",
      "Folder 's011' contains 900 files.\n",
      "Folder 's012' contains 899 files.\n",
      "Folder 's013' contains 900 files.\n",
      "Folder 's014' contains 900 files.\n",
      "Folder 's015' contains 900 files.\n",
      "Folder 's016' contains 900 files.\n",
      "Folder 's017' contains 900 files.\n",
      "Folder 's018' contains 900 files.\n",
      "Folder 's019' contains 900 files.\n",
      "Folder 's101' contains 876 files.\n",
      "Folder 's102' contains 900 files.\n",
      "Folder 's103' contains 899 files.\n",
      "Folder 's104' contains 751 files.\n",
      "Folder 's105' contains 900 files.\n",
      "Folder 's106' contains 900 files.\n",
      "Folder 's107' contains 900 files.\n",
      "Folder 's108' contains 900 files.\n",
      "Folder 's109' contains 900 files.\n",
      "Folder 's110' contains 300 files.\n",
      "Folder 's111' contains 900 files.\n",
      "Folder 's112' contains 900 files.\n",
      "Folder 's116' contains 900 files.\n",
      "Folder 's117' contains 900 files.\n",
      "Folder 's118' contains 900 files.\n",
      "Folder 's119' contains 900 files.\n",
      "Folder 's120' contains 900 files.\n",
      "Folder 's121' contains 900 files.\n",
      "Folder 's122' contains 900 files.\n",
      "Folder 's123' contains 900 files.\n",
      "Folder 's124' contains 897 files.\n",
      "Folder 's125' contains 900 files.\n",
      "Folder 's126' contains 499 files.\n",
      "Folder 's127' contains 833 files.\n",
      "Folder 's128' contains 900 files.\n",
      "Folder 's129' contains 900 files.\n",
      "Folder 's130' contains 900 files.\n",
      "Folder 's131' contains 900 files.\n",
      "41948\n"
     ]
    }
   ],
   "source": [
    "import os\n",
    "\n",
    "def count_files_in_folders(directory):\n",
    "    folders = [f.path for f in os.scandir(directory) if f.is_dir()]\n",
    "    sums = 0\n",
    "    \n",
    "    for folder in folders:\n",
    "        file_count = len([f for f in os.listdir(folder) if os.path.isfile(os.path.join(folder, f))])\n",
    "        sums += file_count\n",
    "        print(f\"Folder '{os.path.basename(folder)}' contains {file_count} files.\")\n",
    "    print(sums)\n",
    "\n",
    "directory_path = 'PM_align'\n",
    "count_files_in_folders(directory_path)"
   ]
  },
  {
   "cell_type": "code",
   "execution_count": 10,
   "id": "30eead78-64b8-487c-8d7f-d84da2f8ff09",
   "metadata": {
    "tags": []
   },
   "outputs": [],
   "source": [
    "for index, row in df.iterrows():\n",
    "    with open('labs/{}.lab'.format(row['id']), 'w', encoding='utf-8') as f:\n",
    "        f.write(row['text'].replace('.', ''))"
   ]
  },
  {
   "cell_type": "code",
   "execution_count": 10,
   "id": "06604671-8ca6-445f-b10b-9cf2b71ba268",
   "metadata": {},
   "outputs": [],
   "source": [
    "def transform_file(row):\n",
    "    return f\"audio/{row['SUBSET'].lower()}/{row['id']}.WAV\""
   ]
  },
  {
   "cell_type": "code",
   "execution_count": 11,
   "id": "90920da3-b326-44aa-928b-7d58bfb7fec8",
   "metadata": {},
   "outputs": [],
   "source": [
    "df['file'] = df.apply(transform_file, axis=1)"
   ]
  }
 ],
 "metadata": {
  "kernelspec": {
   "display_name": "Python 3 (ipykernel)",
   "language": "python",
   "name": "python3"
  },
  "language_info": {
   "codemirror_mode": {
    "name": "ipython",
    "version": 3
   },
   "file_extension": ".py",
   "mimetype": "text/x-python",
   "name": "python",
   "nbconvert_exporter": "python",
   "pygments_lexer": "ipython3",
   "version": "3.11.5"
  }
 },
 "nbformat": 4,
 "nbformat_minor": 5
}
